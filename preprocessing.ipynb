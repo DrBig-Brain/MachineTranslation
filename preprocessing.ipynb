{
 "cells": [
  {
   "cell_type": "code",
   "execution_count": 1,
   "id": "7974b0f8",
   "metadata": {},
   "outputs": [],
   "source": [
    "import pandas as pd\n",
    "import tensorflow as tf"
   ]
  },
  {
   "cell_type": "code",
   "execution_count": 4,
   "id": "672a6c0b",
   "metadata": {},
   "outputs": [
    {
     "data": {
      "text/html": [
       "<div>\n",
       "<style scoped>\n",
       "    .dataframe tbody tr th:only-of-type {\n",
       "        vertical-align: middle;\n",
       "    }\n",
       "\n",
       "    .dataframe tbody tr th {\n",
       "        vertical-align: top;\n",
       "    }\n",
       "\n",
       "    .dataframe thead th {\n",
       "        text-align: right;\n",
       "    }\n",
       "</style>\n",
       "<table border=\"1\" class=\"dataframe\">\n",
       "  <thead>\n",
       "    <tr style=\"text-align: right;\">\n",
       "      <th></th>\n",
       "      <th>English</th>\n",
       "      <th>Hindi</th>\n",
       "    </tr>\n",
       "  </thead>\n",
       "  <tbody>\n",
       "    <tr>\n",
       "      <th>0</th>\n",
       "      <td>Help!</td>\n",
       "      <td>बचाओ!</td>\n",
       "    </tr>\n",
       "    <tr>\n",
       "      <th>1</th>\n",
       "      <td>Jump.</td>\n",
       "      <td>उछलो.</td>\n",
       "    </tr>\n",
       "    <tr>\n",
       "      <th>2</th>\n",
       "      <td>Jump.</td>\n",
       "      <td>कूदो.</td>\n",
       "    </tr>\n",
       "    <tr>\n",
       "      <th>3</th>\n",
       "      <td>Jump.</td>\n",
       "      <td>छलांग.</td>\n",
       "    </tr>\n",
       "    <tr>\n",
       "      <th>4</th>\n",
       "      <td>Hello!</td>\n",
       "      <td>नमस्ते।</td>\n",
       "    </tr>\n",
       "    <tr>\n",
       "      <th>...</th>\n",
       "      <td>...</td>\n",
       "      <td>...</td>\n",
       "    </tr>\n",
       "    <tr>\n",
       "      <th>130471</th>\n",
       "      <td>Examples of art deco construction can be found...</td>\n",
       "      <td>आर्ट डेको शैली के निर्माण मैरीन ड्राइव और ओवल ...</td>\n",
       "    </tr>\n",
       "    <tr>\n",
       "      <th>130472</th>\n",
       "      <td>and put it in our cheeks.</td>\n",
       "      <td>और अपने गालों में डाल लेते हैं।</td>\n",
       "    </tr>\n",
       "    <tr>\n",
       "      <th>130473</th>\n",
       "      <td>As for the other derivatives of sulphur , the ...</td>\n",
       "      <td>जहां तक गंधक के अन्य उत्पादों का प्रश्न है , द...</td>\n",
       "    </tr>\n",
       "    <tr>\n",
       "      <th>130474</th>\n",
       "      <td>its complicated functioning is defined thus in...</td>\n",
       "      <td>Zरचना-प्रकिया को उसने एक पहेली में यों बांधा है .</td>\n",
       "    </tr>\n",
       "    <tr>\n",
       "      <th>130475</th>\n",
       "      <td>They've just won four government contracts to ...</td>\n",
       "      <td>हाल ही में उन्हें सरकारी ठेका मिला है करीब सौ ...</td>\n",
       "    </tr>\n",
       "  </tbody>\n",
       "</table>\n",
       "<p>130476 rows × 2 columns</p>\n",
       "</div>"
      ],
      "text/plain": [
       "                                                  English  \\\n",
       "0                                                   Help!   \n",
       "1                                                   Jump.   \n",
       "2                                                   Jump.   \n",
       "3                                                   Jump.   \n",
       "4                                                  Hello!   \n",
       "...                                                   ...   \n",
       "130471  Examples of art deco construction can be found...   \n",
       "130472                          and put it in our cheeks.   \n",
       "130473  As for the other derivatives of sulphur , the ...   \n",
       "130474  its complicated functioning is defined thus in...   \n",
       "130475  They've just won four government contracts to ...   \n",
       "\n",
       "                                                    Hindi  \n",
       "0                                                   बचाओ!  \n",
       "1                                                   उछलो.  \n",
       "2                                                   कूदो.  \n",
       "3                                                  छलांग.  \n",
       "4                                                 नमस्ते।  \n",
       "...                                                   ...  \n",
       "130471  आर्ट डेको शैली के निर्माण मैरीन ड्राइव और ओवल ...  \n",
       "130472                    और अपने गालों में डाल लेते हैं।  \n",
       "130473  जहां तक गंधक के अन्य उत्पादों का प्रश्न है , द...  \n",
       "130474  Zरचना-प्रकिया को उसने एक पहेली में यों बांधा है .  \n",
       "130475  हाल ही में उन्हें सरकारी ठेका मिला है करीब सौ ...  \n",
       "\n",
       "[130476 rows x 2 columns]"
      ]
     },
     "execution_count": 4,
     "metadata": {},
     "output_type": "execute_result"
    }
   ],
   "source": [
    "df = pd.read_csv('dataset/Dataset_English_Hindi.csv')\n",
    "df"
   ]
  },
  {
   "cell_type": "code",
   "execution_count": 5,
   "id": "20af1cd2",
   "metadata": {},
   "outputs": [
    {
     "data": {
      "text/html": [
       "<div>\n",
       "<style scoped>\n",
       "    .dataframe tbody tr th:only-of-type {\n",
       "        vertical-align: middle;\n",
       "    }\n",
       "\n",
       "    .dataframe tbody tr th {\n",
       "        vertical-align: top;\n",
       "    }\n",
       "\n",
       "    .dataframe thead th {\n",
       "        text-align: right;\n",
       "    }\n",
       "</style>\n",
       "<table border=\"1\" class=\"dataframe\">\n",
       "  <thead>\n",
       "    <tr style=\"text-align: right;\">\n",
       "      <th></th>\n",
       "      <th>English</th>\n",
       "      <th>Hindi</th>\n",
       "    </tr>\n",
       "  </thead>\n",
       "  <tbody>\n",
       "    <tr>\n",
       "      <th>0</th>\n",
       "      <td>Help!</td>\n",
       "      <td>बचाओ!</td>\n",
       "    </tr>\n",
       "    <tr>\n",
       "      <th>1</th>\n",
       "      <td>Jump.</td>\n",
       "      <td>उछलो.</td>\n",
       "    </tr>\n",
       "    <tr>\n",
       "      <th>2</th>\n",
       "      <td>Jump.</td>\n",
       "      <td>कूदो.</td>\n",
       "    </tr>\n",
       "    <tr>\n",
       "      <th>3</th>\n",
       "      <td>Jump.</td>\n",
       "      <td>छलांग.</td>\n",
       "    </tr>\n",
       "    <tr>\n",
       "      <th>4</th>\n",
       "      <td>Hello!</td>\n",
       "      <td>नमस्ते।</td>\n",
       "    </tr>\n",
       "    <tr>\n",
       "      <th>...</th>\n",
       "      <td>...</td>\n",
       "      <td>...</td>\n",
       "    </tr>\n",
       "    <tr>\n",
       "      <th>130471</th>\n",
       "      <td>Examples of art deco construction can be found...</td>\n",
       "      <td>आर्ट डेको शैली के निर्माण मैरीन ड्राइव और ओवल ...</td>\n",
       "    </tr>\n",
       "    <tr>\n",
       "      <th>130472</th>\n",
       "      <td>and put it in our cheeks.</td>\n",
       "      <td>और अपने गालों में डाल लेते हैं।</td>\n",
       "    </tr>\n",
       "    <tr>\n",
       "      <th>130473</th>\n",
       "      <td>As for the other derivatives of sulphur , the ...</td>\n",
       "      <td>जहां तक गंधक के अन्य उत्पादों का प्रश्न है , द...</td>\n",
       "    </tr>\n",
       "    <tr>\n",
       "      <th>130474</th>\n",
       "      <td>its complicated functioning is defined thus in...</td>\n",
       "      <td>Zरचना-प्रकिया को उसने एक पहेली में यों बांधा है .</td>\n",
       "    </tr>\n",
       "    <tr>\n",
       "      <th>130475</th>\n",
       "      <td>They've just won four government contracts to ...</td>\n",
       "      <td>हाल ही में उन्हें सरकारी ठेका मिला है करीब सौ ...</td>\n",
       "    </tr>\n",
       "  </tbody>\n",
       "</table>\n",
       "<p>130162 rows × 2 columns</p>\n",
       "</div>"
      ],
      "text/plain": [
       "                                                  English  \\\n",
       "0                                                   Help!   \n",
       "1                                                   Jump.   \n",
       "2                                                   Jump.   \n",
       "3                                                   Jump.   \n",
       "4                                                  Hello!   \n",
       "...                                                   ...   \n",
       "130471  Examples of art deco construction can be found...   \n",
       "130472                          and put it in our cheeks.   \n",
       "130473  As for the other derivatives of sulphur , the ...   \n",
       "130474  its complicated functioning is defined thus in...   \n",
       "130475  They've just won four government contracts to ...   \n",
       "\n",
       "                                                    Hindi  \n",
       "0                                                   बचाओ!  \n",
       "1                                                   उछलो.  \n",
       "2                                                   कूदो.  \n",
       "3                                                  छलांग.  \n",
       "4                                                 नमस्ते।  \n",
       "...                                                   ...  \n",
       "130471  आर्ट डेको शैली के निर्माण मैरीन ड्राइव और ओवल ...  \n",
       "130472                    और अपने गालों में डाल लेते हैं।  \n",
       "130473  जहां तक गंधक के अन्य उत्पादों का प्रश्न है , द...  \n",
       "130474  Zरचना-प्रकिया को उसने एक पहेली में यों बांधा है .  \n",
       "130475  हाल ही में उन्हें सरकारी ठेका मिला है करीब सौ ...  \n",
       "\n",
       "[130162 rows x 2 columns]"
      ]
     },
     "execution_count": 5,
     "metadata": {},
     "output_type": "execute_result"
    }
   ],
   "source": [
    "df.dropna(subset=['English','Hindi'])"
   ]
  },
  {
   "cell_type": "code",
   "execution_count": 6,
   "id": "5f50a7dc",
   "metadata": {},
   "outputs": [],
   "source": [
    "english = df['English']\n",
    "hindi = df['Hindi']"
   ]
  },
  {
   "cell_type": "code",
   "execution_count": 9,
   "id": "099beb63",
   "metadata": {},
   "outputs": [],
   "source": [
    "import re\n",
    "english = english.apply(lambda x: re.sub(r'[^a-zA-Z\\s]', '', str(x)))\n",
    "hindi = hindi.apply(lambda x: re.sub(r'[^\\u0900-\\u097F\\s]', '', str(x)))"
   ]
  },
  {
   "cell_type": "code",
   "execution_count": 12,
   "id": "db614139",
   "metadata": {},
   "outputs": [],
   "source": [
    "hindi = hindi.apply(lambda x: '<sos>'+x+'<eos>')"
   ]
  },
  {
   "cell_type": "code",
   "execution_count": 13,
   "id": "5a8dd60f",
   "metadata": {},
   "outputs": [],
   "source": [
    "from tensorflow.keras.preprocessing.text import Tokenizer\n",
    "english_tokenizer = Tokenizer(oov_token='<oov>', num_words=20000)\n",
    "hindi_tokenizer = Tokenizer(oov_token='<oov',num_words=30000)"
   ]
  },
  {
   "cell_type": "code",
   "execution_count": 14,
   "id": "fcd02f5d",
   "metadata": {},
   "outputs": [],
   "source": [
    "hindi_tokenizer.fit_on_texts(hindi)\n",
    "english_tokenizer.fit_on_texts(english)"
   ]
  },
  {
   "cell_type": "code",
   "execution_count": 15,
   "id": "dc3043b6",
   "metadata": {},
   "outputs": [],
   "source": [
    "english_token = english_tokenizer.texts_to_sequences(english)\n",
    "hindi_token = hindi_tokenizer.texts_to_sequences(hindi)"
   ]
  },
  {
   "cell_type": "code",
   "execution_count": 16,
   "id": "7885d026",
   "metadata": {},
   "outputs": [],
   "source": [
    "from keras.utils import pad_sequences\n",
    "english_sequence = pad_sequences(english_token,maxlen=50,padding='post')\n",
    "hindi_sequence = pad_sequences(hindi_token,maxlen=50,padding='post')"
   ]
  },
  {
   "cell_type": "code",
   "execution_count": 17,
   "id": "fea81b3b",
   "metadata": {},
   "outputs": [],
   "source": [
    "pd.DataFrame(english_sequence).to_csv('dataset/english.csv')\n",
    "pd.DataFrame(hindi_sequence).to_csv('dataset/hindi.csv')"
   ]
  },
  {
   "cell_type": "code",
   "execution_count": 18,
   "id": "df8d32df",
   "metadata": {},
   "outputs": [],
   "source": [
    "import pickle\n",
    "with open('models/english_tokenizer.pkl','wb') as file:\n",
    "    pickle.dump(english_tokenizer,file)\n",
    "with open('models/hindi_tokenzier.pkl','wb') as file:\n",
    "    pickle.dump(hindi_tokenizer,file)"
   ]
  },
  {
   "cell_type": "code",
   "execution_count": null,
   "id": "d7ed944c",
   "metadata": {},
   "outputs": [],
   "source": []
  }
 ],
 "metadata": {
  "kernelspec": {
   "display_name": ".venv (3.12.6)",
   "language": "python",
   "name": "python3"
  },
  "language_info": {
   "codemirror_mode": {
    "name": "ipython",
    "version": 3
   },
   "file_extension": ".py",
   "mimetype": "text/x-python",
   "name": "python",
   "nbconvert_exporter": "python",
   "pygments_lexer": "ipython3",
   "version": "3.12.6"
  }
 },
 "nbformat": 4,
 "nbformat_minor": 5
}
