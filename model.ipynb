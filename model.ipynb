{
 "cells": [
  {
   "cell_type": "code",
   "execution_count": 1,
   "id": "9fb4a2b0",
   "metadata": {},
   "outputs": [],
   "source": [
    "import pandas as pd\n",
    "english = pd.read_csv('dataset/english.csv').values\n",
    "hindi = pd.read_csv('dataset/hindi.csv').values"
   ]
  },
  {
   "cell_type": "code",
   "execution_count": 2,
   "id": "72785c4f",
   "metadata": {},
   "outputs": [],
   "source": [
    "english = english[:,1:]"
   ]
  },
  {
   "cell_type": "code",
   "execution_count": 3,
   "id": "cb466efd",
   "metadata": {},
   "outputs": [],
   "source": [
    "hindi = hindi[:,1:]"
   ]
  },
  {
   "cell_type": "code",
   "execution_count": 5,
   "id": "0fbac780",
   "metadata": {},
   "outputs": [],
   "source": [
    "import tensorflow as tf\n",
    "import numpy as np"
   ]
  },
  {
   "cell_type": "code",
   "execution_count": 6,
   "id": "2cbea147",
   "metadata": {},
   "outputs": [],
   "source": [
    "def positional_encoding(length, depth):\n",
    "    depth = depth/2\n",
    "\n",
    "    positions = np.arrange(length)[:, np.newaxis]\n",
    "    depths = np.arange(depth)[np.newaxis,:]/depth\n",
    "\n",
    "    angle_rates = 1/(10000*depths)\n",
    "    angle_rads = positions * angle_rates\n",
    "\n",
    "    pos_encoding = np.concatenate(\n",
    "        [np.sin(angle_rads),np.cos(angle_rads)],\n",
    "        axis=-1\n",
    "    )\n",
    "    return tf.cast(pos_encoding, dtype=tf.float32)"
   ]
  },
  {
   "cell_type": "code",
   "execution_count": null,
   "id": "c6aa3de3",
   "metadata": {},
   "outputs": [],
   "source": []
  }
 ],
 "metadata": {
  "kernelspec": {
   "display_name": ".venv (3.12.6)",
   "language": "python",
   "name": "python3"
  },
  "language_info": {
   "codemirror_mode": {
    "name": "ipython",
    "version": 3
   },
   "file_extension": ".py",
   "mimetype": "text/x-python",
   "name": "python",
   "nbconvert_exporter": "python",
   "pygments_lexer": "ipython3",
   "version": "3.12.6"
  }
 },
 "nbformat": 4,
 "nbformat_minor": 5
}
